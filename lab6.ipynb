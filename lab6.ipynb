{
 "cells": [
  {
   "cell_type": "markdown",
   "metadata": {},
   "source": [
    "## Javier Mombiela\n",
    "## Carnet: 20067\n",
    "## 15 de abril, 2024\n",
    "\n",
    "### Laboratorio #6 – Análisis de tráfico, implementación de un IDS\n",
    "\n",
    "#### Preámbulo"
   ]
  },
  {
   "cell_type": "code",
   "execution_count": 68,
   "metadata": {},
   "outputs": [],
   "source": [
    "import binascii\n",
    "import pandas as pd\n",
    "from scapy.all import *\n",
    "import matplotlib.pyplot as plt\n",
    "from scapy.layers.inet import IP\n",
    "from scapy.layers.l2 import Ether\n",
    "from scapy.layers.inet import TCP, UDP"
   ]
  },
  {
   "cell_type": "markdown",
   "metadata": {},
   "source": [
    "2. Capturar 25 paquetes"
   ]
  },
  {
   "cell_type": "code",
   "execution_count": 24,
   "metadata": {},
   "outputs": [],
   "source": [
    "num_of_packets_to_sniff = 25\n",
    "pcap = sniff(count=num_of_packets_to_sniff)"
   ]
  },
  {
   "cell_type": "markdown",
   "metadata": {},
   "source": [
    "3. Imprimir el tipo de variable, longitud y contenido"
   ]
  },
  {
   "cell_type": "code",
   "execution_count": 25,
   "metadata": {},
   "outputs": [
    {
     "name": "stdout",
     "output_type": "stream",
     "text": [
      "Tipo de variable:  <class 'scapy.plist.PacketList'>\n",
      "Longitud de la variable:  25\n",
      "Contenido de la variable: \n",
      "<Sniffed: TCP:23 UDP:2 ICMP:0 Other:0>\n"
     ]
    }
   ],
   "source": [
    "# Imprimir tipo de variable\n",
    "print(\"Tipo de variable: \", type(pcap))\n",
    "\n",
    "# Imprimir longitud de la variable\n",
    "print(\"Longitud de la variable: \", len(pcap))\n",
    "\n",
    "# Imprimir el contenido de la variable\n",
    "print(\"Contenido de la variable: \")\n",
    "print(pcap)"
   ]
  },
  {
   "cell_type": "markdown",
   "metadata": {},
   "source": [
    "4. Imprimir tipo de dato del primer paquete"
   ]
  },
  {
   "cell_type": "code",
   "execution_count": 26,
   "metadata": {},
   "outputs": [
    {
     "name": "stdout",
     "output_type": "stream",
     "text": [
      "Ether / IP / TCP 192.168.1.17:61455 > 20.50.201.200:https PA / Raw\n",
      "Tipo de dato del primer paquete capturado:  <class 'scapy.layers.l2.Ether'>\n"
     ]
    }
   ],
   "source": [
    "print(pcap[0])\n",
    "print(\"Tipo de dato del primer paquete capturado: \", type(pcap[0]))"
   ]
  },
  {
   "cell_type": "markdown",
   "metadata": {},
   "source": [
    "5. Imrpimir el contenido de 5 paquetes"
   ]
  },
  {
   "cell_type": "code",
   "execution_count": 32,
   "metadata": {},
   "outputs": [
    {
     "name": "stdout",
     "output_type": "stream",
     "text": [
      "Contenido de los primeros 5 paquetes capturados: \n",
      "\n",
      "Paquete número:  1\n",
      "Ether / IP / UDP / DNS Qry \"b'google.com.'\"  / Raw\n",
      "-------------------------------------------------------\n",
      "Paquete número:  2\n",
      "Ether / IP / UDP / DNS Ans \"2607:f8b0:4005:807::200e\" \n",
      "-------------------------------------------------------\n",
      "Paquete número:  3\n",
      "Ether / IP / UDP / DNS Qry \"b'google.com.'\"  / Raw\n",
      "-------------------------------------------------------\n",
      "Paquete número:  4\n",
      "Ether / IP / UDP / DNS Ans \"2607:f8b0:4005:807::200e\" \n",
      "-------------------------------------------------------\n",
      "Paquete número:  5\n",
      "Ether / IP / UDP / DNS Qry \"b'google.com.'\"  / Raw\n",
      "-------------------------------------------------------\n"
     ]
    }
   ],
   "source": [
    "print(\"Contenido de los primeros 5 paquetes capturados: \\n\")\n",
    "\n",
    "for i in range(5):\n",
    "    print(\"Paquete número: \", i+1)\n",
    "    print(pcap[i])\n",
    "    print(\"-\" * 55)"
   ]
  },
  {
   "cell_type": "markdown",
   "metadata": {},
   "source": [
    "#### Análisis estadístico\n",
    "\n",
    "1. Cargar `analisis_paquetes.pcap` a una variable"
   ]
  },
  {
   "cell_type": "code",
   "execution_count": 33,
   "metadata": {},
   "outputs": [],
   "source": [
    "pcap_file = 'analisis_paquetes.pcap'\n",
    "pcap = rdpcap(pcap_file)"
   ]
  },
  {
   "cell_type": "markdown",
   "metadata": {},
   "source": [
    "2. Convertir la variable a un DataFrame"
   ]
  },
  {
   "cell_type": "code",
   "execution_count": 36,
   "metadata": {},
   "outputs": [],
   "source": [
    "# Obtener los campos de la capa 2\n",
    "ip_fields = [field.name for field in IP().fields_desc]\n",
    "tcp_fields = [field.name for field in TCP().fields_desc]\n",
    "udp_fields = [field.name for field in UDP().fields_desc]\n",
    "\n",
    "# Concatenar campos\n",
    "fields = ip_fields + ['time'] + tcp_fields + ['payload','payload_raw','payload_hex']\n",
    "\n",
    "# Crear un DataFrame vacío\n",
    "df = pd.DataFrame(columns=fields)\n",
    "\n",
    "# Rellenar el DataFrame con los paquetes capturados\n",
    "for packet in pcap[IP]:\n",
    "    # Obtenemos los valores de los campos de cada fila\n",
    "    field_values = []\n",
    "    # A;adimos todos los valores de los campos de IP al df\n",
    "    for field in ip_fields:\n",
    "        if field == 'options':\n",
    "            # Obtenemos el numero de opciones del IP Header\n",
    "            field_values.append(len(packet[IP].fields[field]))\n",
    "        else:\n",
    "            field_values.append(packet[IP].fields[field])\n",
    "\n",
    "    field_values.append(packet.time)\n",
    "\n",
    "    layer_type = type(packet[IP].payload)\n",
    "    for field in tcp_fields:\n",
    "        try:\n",
    "            if field == 'options':\n",
    "                field_values.append(len(packet[layer_type].fields[field]))\n",
    "            else:\n",
    "                field_values.append(packet[layer_type].fields[field])\n",
    "        except:\n",
    "            field_values.append(None)\n",
    "\n",
    "    # Agregamos el payload\n",
    "    field_values.append(len(packet[layer_type].payload))\n",
    "    field_values.append(packet[layer_type].payload.original)\n",
    "    field_values.append(binascii.hexlify(packet[layer_type].payload.original))\n",
    "    # Agregamos la fila al df\n",
    "    df_append = pd.DataFrame([field_values], columns=fields)\n",
    "    df = pd.concat([df, df_append], axis=0)\n",
    "\n",
    "# Reset Index\n",
    "df = df.reset_index()\n",
    "# Drop old index column\n",
    "df = df.drop(columns=\"index\")"
   ]
  },
  {
   "cell_type": "markdown",
   "metadata": {},
   "source": [
    "3. Mostrar el contenido de las primeras 5 filas"
   ]
  },
  {
   "cell_type": "code",
   "execution_count": 46,
   "metadata": {},
   "outputs": [
    {
     "data": {
      "text/html": [
       "<div>\n",
       "<style scoped>\n",
       "    .dataframe tbody tr th:only-of-type {\n",
       "        vertical-align: middle;\n",
       "    }\n",
       "\n",
       "    .dataframe tbody tr th {\n",
       "        vertical-align: top;\n",
       "    }\n",
       "\n",
       "    .dataframe thead th {\n",
       "        text-align: right;\n",
       "    }\n",
       "</style>\n",
       "<table border=\"1\" class=\"dataframe\">\n",
       "  <thead>\n",
       "    <tr style=\"text-align: right;\">\n",
       "      <th></th>\n",
       "      <th>version</th>\n",
       "      <th>ihl</th>\n",
       "      <th>tos</th>\n",
       "      <th>len</th>\n",
       "      <th>id</th>\n",
       "      <th>flags</th>\n",
       "      <th>frag</th>\n",
       "      <th>ttl</th>\n",
       "      <th>proto</th>\n",
       "      <th>chksum</th>\n",
       "      <th>...</th>\n",
       "      <th>dataofs</th>\n",
       "      <th>reserved</th>\n",
       "      <th>flags</th>\n",
       "      <th>window</th>\n",
       "      <th>chksum</th>\n",
       "      <th>urgptr</th>\n",
       "      <th>options</th>\n",
       "      <th>payload</th>\n",
       "      <th>payload_raw</th>\n",
       "      <th>payload_hex</th>\n",
       "    </tr>\n",
       "  </thead>\n",
       "  <tbody>\n",
       "    <tr>\n",
       "      <th>0</th>\n",
       "      <td>4</td>\n",
       "      <td>5</td>\n",
       "      <td>0</td>\n",
       "      <td>961</td>\n",
       "      <td>1</td>\n",
       "      <td></td>\n",
       "      <td>0</td>\n",
       "      <td>64</td>\n",
       "      <td>17</td>\n",
       "      <td>21222</td>\n",
       "      <td>...</td>\n",
       "      <td>None</td>\n",
       "      <td>None</td>\n",
       "      <td>None</td>\n",
       "      <td>None</td>\n",
       "      <td>62990</td>\n",
       "      <td>None</td>\n",
       "      <td>None</td>\n",
       "      <td>933</td>\n",
       "      <td>b'\\x00\\x0c\\x01\\x00\\x00\\x01\\x00\\x00\\x00\\x00\\x00...</td>\n",
       "      <td>b'000c0100000100000000000006676f6f676c6503636f...</td>\n",
       "    </tr>\n",
       "    <tr>\n",
       "      <th>1</th>\n",
       "      <td>4</td>\n",
       "      <td>5</td>\n",
       "      <td>32</td>\n",
       "      <td>84</td>\n",
       "      <td>58919</td>\n",
       "      <td></td>\n",
       "      <td>0</td>\n",
       "      <td>122</td>\n",
       "      <td>17</td>\n",
       "      <td>13836</td>\n",
       "      <td>...</td>\n",
       "      <td>None</td>\n",
       "      <td>None</td>\n",
       "      <td>None</td>\n",
       "      <td>None</td>\n",
       "      <td>65061</td>\n",
       "      <td>None</td>\n",
       "      <td>None</td>\n",
       "      <td>56</td>\n",
       "      <td>b'\\x00\\x0c\\x81\\x80\\x00\\x01\\x00\\x01\\x00\\x00\\x00...</td>\n",
       "      <td>b'000c8180000100010000000006676f6f676c6503636f...</td>\n",
       "    </tr>\n",
       "    <tr>\n",
       "      <th>2</th>\n",
       "      <td>4</td>\n",
       "      <td>5</td>\n",
       "      <td>0</td>\n",
       "      <td>975</td>\n",
       "      <td>1</td>\n",
       "      <td></td>\n",
       "      <td>0</td>\n",
       "      <td>64</td>\n",
       "      <td>17</td>\n",
       "      <td>21208</td>\n",
       "      <td>...</td>\n",
       "      <td>None</td>\n",
       "      <td>None</td>\n",
       "      <td>None</td>\n",
       "      <td>None</td>\n",
       "      <td>36378</td>\n",
       "      <td>None</td>\n",
       "      <td>None</td>\n",
       "      <td>947</td>\n",
       "      <td>b'\\x00\\x0c\\x01\\x00\\x00\\x01\\x00\\x00\\x00\\x00\\x00...</td>\n",
       "      <td>b'000c0100000100000000000006676f6f676c6503636f...</td>\n",
       "    </tr>\n",
       "    <tr>\n",
       "      <th>3</th>\n",
       "      <td>4</td>\n",
       "      <td>5</td>\n",
       "      <td>32</td>\n",
       "      <td>84</td>\n",
       "      <td>59493</td>\n",
       "      <td></td>\n",
       "      <td>0</td>\n",
       "      <td>122</td>\n",
       "      <td>17</td>\n",
       "      <td>13262</td>\n",
       "      <td>...</td>\n",
       "      <td>None</td>\n",
       "      <td>None</td>\n",
       "      <td>None</td>\n",
       "      <td>None</td>\n",
       "      <td>65063</td>\n",
       "      <td>None</td>\n",
       "      <td>None</td>\n",
       "      <td>56</td>\n",
       "      <td>b'\\x00\\x0c\\x81\\x80\\x00\\x01\\x00\\x01\\x00\\x00\\x00...</td>\n",
       "      <td>b'000c8180000100010000000006676f6f676c6503636f...</td>\n",
       "    </tr>\n",
       "    <tr>\n",
       "      <th>4</th>\n",
       "      <td>4</td>\n",
       "      <td>5</td>\n",
       "      <td>0</td>\n",
       "      <td>1012</td>\n",
       "      <td>1</td>\n",
       "      <td></td>\n",
       "      <td>0</td>\n",
       "      <td>64</td>\n",
       "      <td>17</td>\n",
       "      <td>21171</td>\n",
       "      <td>...</td>\n",
       "      <td>None</td>\n",
       "      <td>None</td>\n",
       "      <td>None</td>\n",
       "      <td>None</td>\n",
       "      <td>63846</td>\n",
       "      <td>None</td>\n",
       "      <td>None</td>\n",
       "      <td>984</td>\n",
       "      <td>b'\\x00\\x0c\\x01\\x00\\x00\\x01\\x00\\x00\\x00\\x00\\x00...</td>\n",
       "      <td>b'000c0100000100000000000006676f6f676c6503636f...</td>\n",
       "    </tr>\n",
       "  </tbody>\n",
       "</table>\n",
       "<p>5 rows × 28 columns</p>\n",
       "</div>"
      ],
      "text/plain": [
       "  version ihl tos   len     id flags frag  ttl proto chksum  ... dataofs  \\\n",
       "0       4   5   0   961      1          0   64    17  21222  ...    None   \n",
       "1       4   5  32    84  58919          0  122    17  13836  ...    None   \n",
       "2       4   5   0   975      1          0   64    17  21208  ...    None   \n",
       "3       4   5  32    84  59493          0  122    17  13262  ...    None   \n",
       "4       4   5   0  1012      1          0   64    17  21171  ...    None   \n",
       "\n",
       "  reserved flags window chksum urgptr options payload  \\\n",
       "0     None  None   None  62990   None    None     933   \n",
       "1     None  None   None  65061   None    None      56   \n",
       "2     None  None   None  36378   None    None     947   \n",
       "3     None  None   None  65063   None    None      56   \n",
       "4     None  None   None  63846   None    None     984   \n",
       "\n",
       "                                         payload_raw  \\\n",
       "0  b'\\x00\\x0c\\x01\\x00\\x00\\x01\\x00\\x00\\x00\\x00\\x00...   \n",
       "1  b'\\x00\\x0c\\x81\\x80\\x00\\x01\\x00\\x01\\x00\\x00\\x00...   \n",
       "2  b'\\x00\\x0c\\x01\\x00\\x00\\x01\\x00\\x00\\x00\\x00\\x00...   \n",
       "3  b'\\x00\\x0c\\x81\\x80\\x00\\x01\\x00\\x01\\x00\\x00\\x00...   \n",
       "4  b'\\x00\\x0c\\x01\\x00\\x00\\x01\\x00\\x00\\x00\\x00\\x00...   \n",
       "\n",
       "                                         payload_hex  \n",
       "0  b'000c0100000100000000000006676f6f676c6503636f...  \n",
       "1  b'000c8180000100010000000006676f6f676c6503636f...  \n",
       "2  b'000c0100000100000000000006676f6f676c6503636f...  \n",
       "3  b'000c8180000100010000000006676f6f676c6503636f...  \n",
       "4  b'000c0100000100000000000006676f6f676c6503636f...  \n",
       "\n",
       "[5 rows x 28 columns]"
      ]
     },
     "execution_count": 46,
     "metadata": {},
     "output_type": "execute_result"
    }
   ],
   "source": [
    "df.head()"
   ]
  },
  {
   "cell_type": "markdown",
   "metadata": {},
   "source": [
    "4. Mostras los valores de: Src Address, Dst Address, Src Port y Dst Port"
   ]
  },
  {
   "cell_type": "code",
   "execution_count": 49,
   "metadata": {},
   "outputs": [
    {
     "data": {
      "text/html": [
       "<div>\n",
       "<style scoped>\n",
       "    .dataframe tbody tr th:only-of-type {\n",
       "        vertical-align: middle;\n",
       "    }\n",
       "\n",
       "    .dataframe tbody tr th {\n",
       "        vertical-align: top;\n",
       "    }\n",
       "\n",
       "    .dataframe thead th {\n",
       "        text-align: right;\n",
       "    }\n",
       "</style>\n",
       "<table border=\"1\" class=\"dataframe\">\n",
       "  <thead>\n",
       "    <tr style=\"text-align: right;\">\n",
       "      <th></th>\n",
       "      <th>src</th>\n",
       "      <th>dst</th>\n",
       "      <th>sport</th>\n",
       "      <th>dport</th>\n",
       "    </tr>\n",
       "  </thead>\n",
       "  <tbody>\n",
       "    <tr>\n",
       "      <th>0</th>\n",
       "      <td>10.1.10.53</td>\n",
       "      <td>84.54.22.33</td>\n",
       "      <td>53</td>\n",
       "      <td>53</td>\n",
       "    </tr>\n",
       "    <tr>\n",
       "      <th>1</th>\n",
       "      <td>84.54.22.33</td>\n",
       "      <td>10.1.10.53</td>\n",
       "      <td>53</td>\n",
       "      <td>53</td>\n",
       "    </tr>\n",
       "    <tr>\n",
       "      <th>2</th>\n",
       "      <td>10.1.10.53</td>\n",
       "      <td>84.54.22.33</td>\n",
       "      <td>53</td>\n",
       "      <td>53</td>\n",
       "    </tr>\n",
       "    <tr>\n",
       "      <th>3</th>\n",
       "      <td>84.54.22.33</td>\n",
       "      <td>10.1.10.53</td>\n",
       "      <td>53</td>\n",
       "      <td>53</td>\n",
       "    </tr>\n",
       "    <tr>\n",
       "      <th>4</th>\n",
       "      <td>10.1.10.53</td>\n",
       "      <td>84.54.22.33</td>\n",
       "      <td>53</td>\n",
       "      <td>53</td>\n",
       "    </tr>\n",
       "    <tr>\n",
       "      <th>...</th>\n",
       "      <td>...</td>\n",
       "      <td>...</td>\n",
       "      <td>...</td>\n",
       "      <td>...</td>\n",
       "    </tr>\n",
       "    <tr>\n",
       "      <th>57</th>\n",
       "      <td>84.54.22.33</td>\n",
       "      <td>10.1.10.53</td>\n",
       "      <td>53</td>\n",
       "      <td>53</td>\n",
       "    </tr>\n",
       "    <tr>\n",
       "      <th>58</th>\n",
       "      <td>10.1.10.53</td>\n",
       "      <td>84.54.22.33</td>\n",
       "      <td>53</td>\n",
       "      <td>53</td>\n",
       "    </tr>\n",
       "    <tr>\n",
       "      <th>59</th>\n",
       "      <td>84.54.22.33</td>\n",
       "      <td>10.1.10.53</td>\n",
       "      <td>53</td>\n",
       "      <td>53</td>\n",
       "    </tr>\n",
       "    <tr>\n",
       "      <th>60</th>\n",
       "      <td>10.1.10.53</td>\n",
       "      <td>84.54.22.33</td>\n",
       "      <td>53</td>\n",
       "      <td>53</td>\n",
       "    </tr>\n",
       "    <tr>\n",
       "      <th>61</th>\n",
       "      <td>84.54.22.33</td>\n",
       "      <td>10.1.10.53</td>\n",
       "      <td>53</td>\n",
       "      <td>53</td>\n",
       "    </tr>\n",
       "  </tbody>\n",
       "</table>\n",
       "<p>62 rows × 4 columns</p>\n",
       "</div>"
      ],
      "text/plain": [
       "            src          dst sport dport\n",
       "0    10.1.10.53  84.54.22.33    53    53\n",
       "1   84.54.22.33   10.1.10.53    53    53\n",
       "2    10.1.10.53  84.54.22.33    53    53\n",
       "3   84.54.22.33   10.1.10.53    53    53\n",
       "4    10.1.10.53  84.54.22.33    53    53\n",
       "..          ...          ...   ...   ...\n",
       "57  84.54.22.33   10.1.10.53    53    53\n",
       "58   10.1.10.53  84.54.22.33    53    53\n",
       "59  84.54.22.33   10.1.10.53    53    53\n",
       "60   10.1.10.53  84.54.22.33    53    53\n",
       "61  84.54.22.33   10.1.10.53    53    53\n",
       "\n",
       "[62 rows x 4 columns]"
      ]
     },
     "execution_count": 49,
     "metadata": {},
     "output_type": "execute_result"
    }
   ],
   "source": [
    "df[['src', 'dst', 'sport', 'dport']]"
   ]
  },
  {
   "cell_type": "markdown",
   "metadata": {},
   "source": [
    "**5. Estadisticas**\n",
    "\n",
    " a. Mostrar todas las IP origen"
   ]
  },
  {
   "cell_type": "code",
   "execution_count": 51,
   "metadata": {},
   "outputs": [
    {
     "name": "stdout",
     "output_type": "stream",
     "text": [
      "['10.1.10.53' '84.54.22.33' '75.75.75.75']\n"
     ]
    }
   ],
   "source": [
    "print(df['src'].unique())"
   ]
  },
  {
   "cell_type": "markdown",
   "metadata": {},
   "source": [
    "b. Mostrar todas las IP destino"
   ]
  },
  {
   "cell_type": "code",
   "execution_count": 52,
   "metadata": {},
   "outputs": [
    {
     "name": "stdout",
     "output_type": "stream",
     "text": [
      "['84.54.22.33' '10.1.10.53' '75.75.75.75']\n"
     ]
    }
   ],
   "source": [
    "print(df['dst'].unique())"
   ]
  },
  {
   "cell_type": "markdown",
   "metadata": {},
   "source": [
    "c. ¿Cuál es la IP origen más frecuente?\n",
    "- ¿A qué IP destino se comunica con más frecuencia?\n",
    "- ¿A que puerto destino se comunica? ¿Cuál es el propósito de este puerto?\n",
    "- ¿Desde que puertos origen se comunica?"
   ]
  },
  {
   "cell_type": "code",
   "execution_count": 81,
   "metadata": {},
   "outputs": [
    {
     "name": "stdout",
     "output_type": "stream",
     "text": [
      "IP origen más frecuente:  10.1.10.53\n",
      "\n",
      "A qué IP destino se comunica con más frecuencia: 84.54.22.33\n",
      "A qué puerto destino se comunica: 53\n",
      "Propósito del puerto destino: El puerto 53 se utiliza para la resolución de nombres de dominio, lo que permite que los dispositivos se comuniquen entre sí en Internet utilizando nombres legibles para los humanos en lugar de direcciones IP numéricas.\n",
      "Se comunica desde los siguientes puertos: [53 15812 23903]\n"
     ]
    }
   ],
   "source": [
    "# Encontrar la IP origen mas frecuente\n",
    "most_frequent_src_ip = df['src'].value_counts().idxmax()\n",
    "\n",
    "print(\"IP origen más frecuente: \", most_frequent_src_ip)\n",
    "\n",
    "# Filtrar el dataframe por la IP de origen mas frecuente\n",
    "filtered_df = df[df['src'] == most_frequent_src_ip]\n",
    "\n",
    "# A qué IP destino se comunica con más frecuencia\n",
    "most_frequent_dst_ip = filtered_df['dst'].value_counts().idxmax()\n",
    "\n",
    "# A qué puerto destino se comunica y su propósito\n",
    "most_frequent_dport = filtered_df['dport'].value_counts().idxmax()\n",
    "purpose_of_dport = \"El puerto 53 se utiliza para la resolución de nombres de dominio, lo que permite que los dispositivos se comuniquen entre sí en Internet utilizando nombres legibles para los humanos en lugar de direcciones IP numéricas.\"\n",
    "\n",
    "# Desde qué puertos de origen se comunica\n",
    "source_ports = filtered_df['sport'].unique()\n",
    "\n",
    "print(\"\\nA qué IP destino se comunica con más frecuencia:\", most_frequent_dst_ip)\n",
    "print(\"A qué puerto destino se comunica:\", most_frequent_dport)\n",
    "print(\"Propósito del puerto destino:\", purpose_of_dport)\n",
    "print(\"Se comunica desde los siguientes puertos:\", source_ports)"
   ]
  },
  {
   "cell_type": "markdown",
   "metadata": {},
   "source": [
    "**6. Gráficas**\n",
    "\n",
    "a. Grafica suma de payloads de IP Orgigen"
   ]
  },
  {
   "cell_type": "code",
   "execution_count": 79,
   "metadata": {},
   "outputs": [
    {
     "data": {
      "image/png": "[encoded data removed]",
      "text/plain": [
       "<Figure size 1000x800 with 1 Axes>"
      ]
     },
     "metadata": {},
     "output_type": "display_data"
    }
   ],
   "source": [
    "payloads_por_ip_origen = df.groupby('src')['payload'].sum()\n",
    "\n",
    "# Crear la graficas\n",
    "plt.figure(figsize=(10, 8))\n",
    "payloads_por_ip_origen.plot(kind='barh')\n",
    "plt.title('Payloads por IP Origen')\n",
    "plt.xlabel('Suma de payloads (bytes)')\n",
    "plt.ylabel('IP Origen')\n",
    "plt.show()"
   ]
  },
  {
   "cell_type": "markdown",
   "metadata": {},
   "source": [
    "b. Grafica suma de payloads Ip Destino"
   ]
  },
  {
   "cell_type": "code",
   "execution_count": 78,
   "metadata": {},
   "outputs": [
    {
     "data": {
      "image/png": "[encoded data removed]",
      "text/plain": [
       "<Figure size 1000x800 with 1 Axes>"
      ]
     },
     "metadata": {},
     "output_type": "display_data"
    }
   ],
   "source": [
    "payloads_por_ip_destino = df.groupby('dst')['payload'].sum()\n",
    "\n",
    "# Crear la graficas\n",
    "plt.figure(figsize=(10, 8))\n",
    "payloads_por_ip_destino.plot(kind='barh')\n",
    "plt.title('Payloads por IP Destino')\n",
    "plt.xlabel('Suma de payloads (bytes)')\n",
    "plt.ylabel('IP Destino')\n",
    "plt.show()"
   ]
  },
  {
   "cell_type": "markdown",
   "metadata": {},
   "source": [
    "c. Grafica suma de payloads por puertos origen"
   ]
  },
  {
   "cell_type": "code",
   "execution_count": 77,
   "metadata": {},
   "outputs": [
    {
     "data": {
      "image/png": "[encoded data removed]",
      "text/plain": [
       "<Figure size 1000x800 with 1 Axes>"
      ]
     },
     "metadata": {},
     "output_type": "display_data"
    }
   ],
   "source": [
    "payloads_por_source_ports = df.groupby('sport')['payload'].sum()\n",
    "\n",
    "# Crear la gráfica de barras horizontales\n",
    "plt.figure(figsize=(10, 8))\n",
    "payloads_por_source_ports.plot(kind='barh')\n",
    "plt.title('Suma de Payloads Enviados por Puerto de Origen')\n",
    "plt.xlabel('Suma de Payloads Enviados (bytes)')\n",
    "plt.ylabel('Puerto de Origen')\n",
    "plt.show()"
   ]
  },
  {
   "cell_type": "markdown",
   "metadata": {},
   "source": [
    "d. Grafica suma de payloads por puerto destino"
   ]
  },
  {
   "cell_type": "code",
   "execution_count": 80,
   "metadata": {},
   "outputs": [
    {
     "data": {
      "image/png": "[encoded data removed]",
      "text/plain": [
       "<Figure size 1000x800 with 1 Axes>"
      ]
     },
     "metadata": {},
     "output_type": "display_data"
    }
   ],
   "source": [
    "payloads_por_dest_ports = df.groupby('dport')['payload'].sum()\n",
    "\n",
    "# Crear la gráfica de barras horizontales\n",
    "plt.figure(figsize=(10, 8))\n",
    "payloads_por_dest_ports.plot(kind='barh')\n",
    "plt.title('Suma de Payloads Recibidos por Puerto de Destino')\n",
    "plt.xlabel('Suma de Payloads Recibidos (bytes)')\n",
    "plt.ylabel('Puerto de Destino')\n",
    "plt.show()"
   ]
  },
  {
   "cell_type": "markdown",
   "metadata": {},
   "source": [
    "e. Suma de Payloads por Tiempo para la IP de Origen más Frecuentema "
   ]
  },
  {
   "cell_type": "code",
   "execution_count": 86,
   "metadata": {},
   "outputs": [
    {
     "data": {
      "image/png": "[encoded data removed]",
      "text/plain": [
       "<Figure size 1200x600 with 1 Axes>"
      ]
     },
     "metadata": {},
     "output_type": "display_data"
    }
   ],
   "source": [
    "# Convertir el campo 'time' a tipo float\n",
    "df['time'] = df['time'].astype(float)\n",
    "\n",
    "# Filtrar los datos para quedarnos únicamente con los paquetes enviados desde la dirección IP de origen más frecuente\n",
    "filtered_df = df[df['src'] == most_frequent_src_ip]\n",
    "\n",
    "# Agrupar los datos por tiempo y sumar los payloads correspondientes\n",
    "payloads_por_tiempo = filtered_df.groupby('time')['payload'].sum()\n",
    "\n",
    "# Crear la gráfica de barras verticales\n",
    "plt.figure(figsize=(12, 6))\n",
    "payloads_por_tiempo.plot(kind='bar')\n",
    "plt.ylabel('Suma de Payloads (bytes)')\n",
    "plt.xlabel('Tiempo')\n",
    "plt.title('Suma de Payloads por Tiempo para la IP de Origen más Frecuente')\n",
    "plt.xticks(rotation=45)\n",
    "plt.show()"
   ]
  },
  {
   "cell_type": "markdown",
   "metadata": {},
   "source": [
    "f. Descripción de lo ocurrido\n",
    "\n",
    "Basado en el hecho de que estoy en mi casa, el comportamiento de las gráficas parece ser mayormente normal y consistente con las actividades típicas en una red doméstica. La predominancia de ciertas direcciones IP y puertos, así como la distribución de payloads y tiempos, sugiere un patrón de tráfico coherente con el uso común de una red doméstica. Por ejemplo, la dirección IP de origen más frecuente, junto con los puertos 53 como origen y destino principales, refleja la actividad de resolución de nombres de dominio asociada con la navegación web habitual. Asimismo, la variación en la cantidad de payloads y tiempos puede estar relacionada con las múltiples actividades en línea, como navegación, streaming y descargas, que son comunes en un entorno doméstico.\n",
    "\n",
    "**7. Investigacion del payload**\n",
    "\n",
    "a. Crear DF que incluya unicamente las conexciones IP Origen mas frecuente"
   ]
  },
  {
   "cell_type": "code",
   "execution_count": 91,
   "metadata": {},
   "outputs": [
    {
     "data": {
      "text/html": [
       "<div>\n",
       "<style scoped>\n",
       "    .dataframe tbody tr th:only-of-type {\n",
       "        vertical-align: middle;\n",
       "    }\n",
       "\n",
       "    .dataframe tbody tr th {\n",
       "        vertical-align: top;\n",
       "    }\n",
       "\n",
       "    .dataframe thead th {\n",
       "        text-align: right;\n",
       "    }\n",
       "</style>\n",
       "<table border=\"1\" class=\"dataframe\">\n",
       "  <thead>\n",
       "    <tr style=\"text-align: right;\">\n",
       "      <th></th>\n",
       "      <th>version</th>\n",
       "      <th>ihl</th>\n",
       "      <th>tos</th>\n",
       "      <th>len</th>\n",
       "      <th>id</th>\n",
       "      <th>flags</th>\n",
       "      <th>frag</th>\n",
       "      <th>ttl</th>\n",
       "      <th>proto</th>\n",
       "      <th>chksum</th>\n",
       "      <th>...</th>\n",
       "      <th>dataofs</th>\n",
       "      <th>reserved</th>\n",
       "      <th>flags</th>\n",
       "      <th>window</th>\n",
       "      <th>chksum</th>\n",
       "      <th>urgptr</th>\n",
       "      <th>options</th>\n",
       "      <th>payload</th>\n",
       "      <th>payload_raw</th>\n",
       "      <th>payload_hex</th>\n",
       "    </tr>\n",
       "  </thead>\n",
       "  <tbody>\n",
       "    <tr>\n",
       "      <th>0</th>\n",
       "      <td>4</td>\n",
       "      <td>5</td>\n",
       "      <td>0</td>\n",
       "      <td>961</td>\n",
       "      <td>1</td>\n",
       "      <td></td>\n",
       "      <td>0</td>\n",
       "      <td>64</td>\n",
       "      <td>17</td>\n",
       "      <td>21222</td>\n",
       "      <td>...</td>\n",
       "      <td>None</td>\n",
       "      <td>None</td>\n",
       "      <td>None</td>\n",
       "      <td>None</td>\n",
       "      <td>62990</td>\n",
       "      <td>None</td>\n",
       "      <td>None</td>\n",
       "      <td>933</td>\n",
       "      <td>b'\\x00\\x0c\\x01\\x00\\x00\\x01\\x00\\x00\\x00\\x00\\x00...</td>\n",
       "      <td>b'000c0100000100000000000006676f6f676c6503636f...</td>\n",
       "    </tr>\n",
       "    <tr>\n",
       "      <th>2</th>\n",
       "      <td>4</td>\n",
       "      <td>5</td>\n",
       "      <td>0</td>\n",
       "      <td>975</td>\n",
       "      <td>1</td>\n",
       "      <td></td>\n",
       "      <td>0</td>\n",
       "      <td>64</td>\n",
       "      <td>17</td>\n",
       "      <td>21208</td>\n",
       "      <td>...</td>\n",
       "      <td>None</td>\n",
       "      <td>None</td>\n",
       "      <td>None</td>\n",
       "      <td>None</td>\n",
       "      <td>36378</td>\n",
       "      <td>None</td>\n",
       "      <td>None</td>\n",
       "      <td>947</td>\n",
       "      <td>b'\\x00\\x0c\\x01\\x00\\x00\\x01\\x00\\x00\\x00\\x00\\x00...</td>\n",
       "      <td>b'000c0100000100000000000006676f6f676c6503636f...</td>\n",
       "    </tr>\n",
       "    <tr>\n",
       "      <th>4</th>\n",
       "      <td>4</td>\n",
       "      <td>5</td>\n",
       "      <td>0</td>\n",
       "      <td>1012</td>\n",
       "      <td>1</td>\n",
       "      <td></td>\n",
       "      <td>0</td>\n",
       "      <td>64</td>\n",
       "      <td>17</td>\n",
       "      <td>21171</td>\n",
       "      <td>...</td>\n",
       "      <td>None</td>\n",
       "      <td>None</td>\n",
       "      <td>None</td>\n",
       "      <td>None</td>\n",
       "      <td>63846</td>\n",
       "      <td>None</td>\n",
       "      <td>None</td>\n",
       "      <td>984</td>\n",
       "      <td>b'\\x00\\x0c\\x01\\x00\\x00\\x01\\x00\\x00\\x00\\x00\\x00...</td>\n",
       "      <td>b'000c0100000100000000000006676f6f676c6503636f...</td>\n",
       "    </tr>\n",
       "    <tr>\n",
       "      <th>6</th>\n",
       "      <td>4</td>\n",
       "      <td>5</td>\n",
       "      <td>0</td>\n",
       "      <td>998</td>\n",
       "      <td>1</td>\n",
       "      <td></td>\n",
       "      <td>0</td>\n",
       "      <td>64</td>\n",
       "      <td>17</td>\n",
       "      <td>21185</td>\n",
       "      <td>...</td>\n",
       "      <td>None</td>\n",
       "      <td>None</td>\n",
       "      <td>None</td>\n",
       "      <td>None</td>\n",
       "      <td>65315</td>\n",
       "      <td>None</td>\n",
       "      <td>None</td>\n",
       "      <td>970</td>\n",
       "      <td>b'\\x00\\x0c\\x01\\x00\\x00\\x01\\x00\\x00\\x00\\x00\\x00...</td>\n",
       "      <td>b'000c0100000100000000000006676f6f676c6503636f...</td>\n",
       "    </tr>\n",
       "    <tr>\n",
       "      <th>8</th>\n",
       "      <td>4</td>\n",
       "      <td>5</td>\n",
       "      <td>0</td>\n",
       "      <td>1003</td>\n",
       "      <td>1</td>\n",
       "      <td></td>\n",
       "      <td>0</td>\n",
       "      <td>64</td>\n",
       "      <td>17</td>\n",
       "      <td>21180</td>\n",
       "      <td>...</td>\n",
       "      <td>None</td>\n",
       "      <td>None</td>\n",
       "      <td>None</td>\n",
       "      <td>None</td>\n",
       "      <td>38088</td>\n",
       "      <td>None</td>\n",
       "      <td>None</td>\n",
       "      <td>975</td>\n",
       "      <td>b'\\x00\\x0c\\x01\\x00\\x00\\x01\\x00\\x00\\x00\\x00\\x00...</td>\n",
       "      <td>b'000c0100000100000000000006676f6f676c6503636f...</td>\n",
       "    </tr>\n",
       "  </tbody>\n",
       "</table>\n",
       "<p>5 rows × 28 columns</p>\n",
       "</div>"
      ],
      "text/plain": [
       "  version ihl tos   len id flags frag ttl proto chksum  ... dataofs reserved  \\\n",
       "0       4   5   0   961  1          0  64    17  21222  ...    None     None   \n",
       "2       4   5   0   975  1          0  64    17  21208  ...    None     None   \n",
       "4       4   5   0  1012  1          0  64    17  21171  ...    None     None   \n",
       "6       4   5   0   998  1          0  64    17  21185  ...    None     None   \n",
       "8       4   5   0  1003  1          0  64    17  21180  ...    None     None   \n",
       "\n",
       "  flags  window chksum urgptr options payload  \\\n",
       "0  None    None  62990   None    None     933   \n",
       "2  None    None  36378   None    None     947   \n",
       "4  None    None  63846   None    None     984   \n",
       "6  None    None  65315   None    None     970   \n",
       "8  None    None  38088   None    None     975   \n",
       "\n",
       "                                         payload_raw  \\\n",
       "0  b'\\x00\\x0c\\x01\\x00\\x00\\x01\\x00\\x00\\x00\\x00\\x00...   \n",
       "2  b'\\x00\\x0c\\x01\\x00\\x00\\x01\\x00\\x00\\x00\\x00\\x00...   \n",
       "4  b'\\x00\\x0c\\x01\\x00\\x00\\x01\\x00\\x00\\x00\\x00\\x00...   \n",
       "6  b'\\x00\\x0c\\x01\\x00\\x00\\x01\\x00\\x00\\x00\\x00\\x00...   \n",
       "8  b'\\x00\\x0c\\x01\\x00\\x00\\x01\\x00\\x00\\x00\\x00\\x00...   \n",
       "\n",
       "                                         payload_hex  \n",
       "0  b'000c0100000100000000000006676f6f676c6503636f...  \n",
       "2  b'000c0100000100000000000006676f6f676c6503636f...  \n",
       "4  b'000c0100000100000000000006676f6f676c6503636f...  \n",
       "6  b'000c0100000100000000000006676f6f676c6503636f...  \n",
       "8  b'000c0100000100000000000006676f6f676c6503636f...  \n",
       "\n",
       "[5 rows x 28 columns]"
      ]
     },
     "execution_count": 91,
     "metadata": {},
     "output_type": "execute_result"
    }
   ],
   "source": [
    "df_filtered = df[df['src'] == most_frequent_src_ip].copy()\n",
    "\n",
    "df_filtered.head()"
   ]
  },
  {
   "cell_type": "code",
   "execution_count": 92,
   "metadata": {},
   "outputs": [
    {
     "data": {
      "text/plain": [
       "0     10.1.10.53\n",
       "2     10.1.10.53\n",
       "4     10.1.10.53\n",
       "6     10.1.10.53\n",
       "8     10.1.10.53\n",
       "10    10.1.10.53\n",
       "12    10.1.10.53\n",
       "14    10.1.10.53\n",
       "16    10.1.10.53\n",
       "18    10.1.10.53\n",
       "20    10.1.10.53\n",
       "22    10.1.10.53\n",
       "23    10.1.10.53\n",
       "26    10.1.10.53\n",
       "28    10.1.10.53\n",
       "30    10.1.10.53\n",
       "32    10.1.10.53\n",
       "34    10.1.10.53\n",
       "36    10.1.10.53\n",
       "38    10.1.10.53\n",
       "40    10.1.10.53\n",
       "42    10.1.10.53\n",
       "44    10.1.10.53\n",
       "46    10.1.10.53\n",
       "48    10.1.10.53\n",
       "50    10.1.10.53\n",
       "52    10.1.10.53\n",
       "54    10.1.10.53\n",
       "56    10.1.10.53\n",
       "58    10.1.10.53\n",
       "60    10.1.10.53\n",
       "Name: src, dtype: object"
      ]
     },
     "execution_count": 92,
     "metadata": {},
     "output_type": "execute_result"
    }
   ],
   "source": [
    "df_filtered['src']"
   ]
  },
  {
   "cell_type": "markdown",
   "metadata": {},
   "source": [
    "b. Crear nuevo DF"
   ]
  },
  {
   "cell_type": "code",
   "execution_count": 93,
   "metadata": {},
   "outputs": [
    {
     "name": "stdout",
     "output_type": "stream",
     "text": [
      "           dst payload\n",
      "0  75.75.75.75      74\n",
      "1  84.54.22.33   27979\n"
     ]
    }
   ],
   "source": [
    "# Agrupar el DataFrame anterior por 'dst' y sumar los payloads\n",
    "df_grouped_by_dst = df_filtered.groupby('dst')['payload'].sum().reset_index()\n",
    "\n",
    "# Verificar el nuevo DataFrame\n",
    "print(df_grouped_by_dst.head())"
   ]
  },
  {
   "cell_type": "markdown",
   "metadata": {},
   "source": [
    "c. Obtener IP Destino que mas ha intercambiado bytes con IP frecuente"
   ]
  },
  {
   "cell_type": "code",
   "execution_count": 94,
   "metadata": {},
   "outputs": [
    {
     "name": "stdout",
     "output_type": "stream",
     "text": [
      "La IP destino que más ha intercambiado bytes con la IP más frecuente es: 84.54.22.33\n"
     ]
    }
   ],
   "source": [
    "most_communicated_dst_ip = df_grouped_by_dst[df_grouped_by_dst['payload'] == df_grouped_by_dst['payload'].max()]['dst'].values[0]\n",
    "\n",
    "print(\"La IP destino que más ha intercambiado bytes con la IP más frecuente es:\", most_communicated_dst_ip)"
   ]
  },
  {
   "cell_type": "markdown",
   "metadata": {},
   "source": [
    "d. Crear nuevo DF con la conversacion entre IP mas frecuente e IP sospechosa"
   ]
  },
  {
   "cell_type": "code",
   "execution_count": 97,
   "metadata": {},
   "outputs": [
    {
     "data": {
      "text/html": [
       "<div>\n",
       "<style scoped>\n",
       "    .dataframe tbody tr th:only-of-type {\n",
       "        vertical-align: middle;\n",
       "    }\n",
       "\n",
       "    .dataframe tbody tr th {\n",
       "        vertical-align: top;\n",
       "    }\n",
       "\n",
       "    .dataframe thead th {\n",
       "        text-align: right;\n",
       "    }\n",
       "</style>\n",
       "<table border=\"1\" class=\"dataframe\">\n",
       "  <thead>\n",
       "    <tr style=\"text-align: right;\">\n",
       "      <th></th>\n",
       "      <th>version</th>\n",
       "      <th>ihl</th>\n",
       "      <th>tos</th>\n",
       "      <th>len</th>\n",
       "      <th>id</th>\n",
       "      <th>flags</th>\n",
       "      <th>frag</th>\n",
       "      <th>ttl</th>\n",
       "      <th>proto</th>\n",
       "      <th>chksum</th>\n",
       "      <th>...</th>\n",
       "      <th>dataofs</th>\n",
       "      <th>reserved</th>\n",
       "      <th>flags</th>\n",
       "      <th>window</th>\n",
       "      <th>chksum</th>\n",
       "      <th>urgptr</th>\n",
       "      <th>options</th>\n",
       "      <th>payload</th>\n",
       "      <th>payload_raw</th>\n",
       "      <th>payload_hex</th>\n",
       "    </tr>\n",
       "  </thead>\n",
       "  <tbody>\n",
       "    <tr>\n",
       "      <th>0</th>\n",
       "      <td>4</td>\n",
       "      <td>5</td>\n",
       "      <td>0</td>\n",
       "      <td>961</td>\n",
       "      <td>1</td>\n",
       "      <td></td>\n",
       "      <td>0</td>\n",
       "      <td>64</td>\n",
       "      <td>17</td>\n",
       "      <td>21222</td>\n",
       "      <td>...</td>\n",
       "      <td>None</td>\n",
       "      <td>None</td>\n",
       "      <td>None</td>\n",
       "      <td>None</td>\n",
       "      <td>62990</td>\n",
       "      <td>None</td>\n",
       "      <td>None</td>\n",
       "      <td>933</td>\n",
       "      <td>b'\\x00\\x0c\\x01\\x00\\x00\\x01\\x00\\x00\\x00\\x00\\x00...</td>\n",
       "      <td>b'000c0100000100000000000006676f6f676c6503636f...</td>\n",
       "    </tr>\n",
       "    <tr>\n",
       "      <th>2</th>\n",
       "      <td>4</td>\n",
       "      <td>5</td>\n",
       "      <td>0</td>\n",
       "      <td>975</td>\n",
       "      <td>1</td>\n",
       "      <td></td>\n",
       "      <td>0</td>\n",
       "      <td>64</td>\n",
       "      <td>17</td>\n",
       "      <td>21208</td>\n",
       "      <td>...</td>\n",
       "      <td>None</td>\n",
       "      <td>None</td>\n",
       "      <td>None</td>\n",
       "      <td>None</td>\n",
       "      <td>36378</td>\n",
       "      <td>None</td>\n",
       "      <td>None</td>\n",
       "      <td>947</td>\n",
       "      <td>b'\\x00\\x0c\\x01\\x00\\x00\\x01\\x00\\x00\\x00\\x00\\x00...</td>\n",
       "      <td>b'000c0100000100000000000006676f6f676c6503636f...</td>\n",
       "    </tr>\n",
       "    <tr>\n",
       "      <th>4</th>\n",
       "      <td>4</td>\n",
       "      <td>5</td>\n",
       "      <td>0</td>\n",
       "      <td>1012</td>\n",
       "      <td>1</td>\n",
       "      <td></td>\n",
       "      <td>0</td>\n",
       "      <td>64</td>\n",
       "      <td>17</td>\n",
       "      <td>21171</td>\n",
       "      <td>...</td>\n",
       "      <td>None</td>\n",
       "      <td>None</td>\n",
       "      <td>None</td>\n",
       "      <td>None</td>\n",
       "      <td>63846</td>\n",
       "      <td>None</td>\n",
       "      <td>None</td>\n",
       "      <td>984</td>\n",
       "      <td>b'\\x00\\x0c\\x01\\x00\\x00\\x01\\x00\\x00\\x00\\x00\\x00...</td>\n",
       "      <td>b'000c0100000100000000000006676f6f676c6503636f...</td>\n",
       "    </tr>\n",
       "    <tr>\n",
       "      <th>6</th>\n",
       "      <td>4</td>\n",
       "      <td>5</td>\n",
       "      <td>0</td>\n",
       "      <td>998</td>\n",
       "      <td>1</td>\n",
       "      <td></td>\n",
       "      <td>0</td>\n",
       "      <td>64</td>\n",
       "      <td>17</td>\n",
       "      <td>21185</td>\n",
       "      <td>...</td>\n",
       "      <td>None</td>\n",
       "      <td>None</td>\n",
       "      <td>None</td>\n",
       "      <td>None</td>\n",
       "      <td>65315</td>\n",
       "      <td>None</td>\n",
       "      <td>None</td>\n",
       "      <td>970</td>\n",
       "      <td>b'\\x00\\x0c\\x01\\x00\\x00\\x01\\x00\\x00\\x00\\x00\\x00...</td>\n",
       "      <td>b'000c0100000100000000000006676f6f676c6503636f...</td>\n",
       "    </tr>\n",
       "    <tr>\n",
       "      <th>8</th>\n",
       "      <td>4</td>\n",
       "      <td>5</td>\n",
       "      <td>0</td>\n",
       "      <td>1003</td>\n",
       "      <td>1</td>\n",
       "      <td></td>\n",
       "      <td>0</td>\n",
       "      <td>64</td>\n",
       "      <td>17</td>\n",
       "      <td>21180</td>\n",
       "      <td>...</td>\n",
       "      <td>None</td>\n",
       "      <td>None</td>\n",
       "      <td>None</td>\n",
       "      <td>None</td>\n",
       "      <td>38088</td>\n",
       "      <td>None</td>\n",
       "      <td>None</td>\n",
       "      <td>975</td>\n",
       "      <td>b'\\x00\\x0c\\x01\\x00\\x00\\x01\\x00\\x00\\x00\\x00\\x00...</td>\n",
       "      <td>b'000c0100000100000000000006676f6f676c6503636f...</td>\n",
       "    </tr>\n",
       "  </tbody>\n",
       "</table>\n",
       "<p>5 rows × 28 columns</p>\n",
       "</div>"
      ],
      "text/plain": [
       "  version ihl tos   len id flags frag ttl proto chksum  ... dataofs reserved  \\\n",
       "0       4   5   0   961  1          0  64    17  21222  ...    None     None   \n",
       "2       4   5   0   975  1          0  64    17  21208  ...    None     None   \n",
       "4       4   5   0  1012  1          0  64    17  21171  ...    None     None   \n",
       "6       4   5   0   998  1          0  64    17  21185  ...    None     None   \n",
       "8       4   5   0  1003  1          0  64    17  21180  ...    None     None   \n",
       "\n",
       "  flags  window chksum urgptr options payload  \\\n",
       "0  None    None  62990   None    None     933   \n",
       "2  None    None  36378   None    None     947   \n",
       "4  None    None  63846   None    None     984   \n",
       "6  None    None  65315   None    None     970   \n",
       "8  None    None  38088   None    None     975   \n",
       "\n",
       "                                         payload_raw  \\\n",
       "0  b'\\x00\\x0c\\x01\\x00\\x00\\x01\\x00\\x00\\x00\\x00\\x00...   \n",
       "2  b'\\x00\\x0c\\x01\\x00\\x00\\x01\\x00\\x00\\x00\\x00\\x00...   \n",
       "4  b'\\x00\\x0c\\x01\\x00\\x00\\x01\\x00\\x00\\x00\\x00\\x00...   \n",
       "6  b'\\x00\\x0c\\x01\\x00\\x00\\x01\\x00\\x00\\x00\\x00\\x00...   \n",
       "8  b'\\x00\\x0c\\x01\\x00\\x00\\x01\\x00\\x00\\x00\\x00\\x00...   \n",
       "\n",
       "                                         payload_hex  \n",
       "0  b'000c0100000100000000000006676f6f676c6503636f...  \n",
       "2  b'000c0100000100000000000006676f6f676c6503636f...  \n",
       "4  b'000c0100000100000000000006676f6f676c6503636f...  \n",
       "6  b'000c0100000100000000000006676f6f676c6503636f...  \n",
       "8  b'000c0100000100000000000006676f6f676c6503636f...  \n",
       "\n",
       "[5 rows x 28 columns]"
      ]
     },
     "execution_count": 97,
     "metadata": {},
     "output_type": "execute_result"
    }
   ],
   "source": [
    "# Filtrar el DataFrame original para incluir solo las conversaciones entre la IP más frecuente y la IP sospechosa\n",
    "df_conversation = df[(df['src'] == most_frequent_src_ip) & (df['dst'] == most_communicated_dst_ip)].copy()\n",
    "\n",
    "# Verificar el nuevo DataFrame\n",
    "df_conversation.head()"
   ]
  },
  {
   "cell_type": "markdown",
   "metadata": {},
   "source": [
    "e. Obtener payloads del DF anterior"
   ]
  },
  {
   "cell_type": "code",
   "execution_count": 145,
   "metadata": {},
   "outputs": [
    {
     "name": "stdout",
     "output_type": "stream",
     "text": [
      "Payloads:  [933, 947, 984, 970, 975, 1017, 980, 951, 931, 964, 1023, 978, 958, 976, 1009, 976, 1011, 1009, 1007, 982, 978, 978, 985, 991, 977, 989, 999, 941, 560]\n"
     ]
    }
   ],
   "source": [
    "payloads_array = df_conversation['payload'].tolist()\n",
    "print(\"Payloads: \", payloads_array)"
   ]
  },
  {
   "cell_type": "markdown",
   "metadata": {},
   "source": [
    "f. Mostrar array"
   ]
  },
  {
   "cell_type": "code",
   "execution_count": 146,
   "metadata": {},
   "outputs": [
    {
     "name": "stdout",
     "output_type": "stream",
     "text": [
      "Payload 1: 933, hex: b'000c010000010000'\n",
      "Payload 2: 947, hex: b'000c010000010000'\n",
      "Payload 3: 984, hex: b'000c010000010000'\n",
      "Payload 4: 970, hex: b'000c010000010000'\n",
      "Payload 5: 975, hex: b'000c010000010000'\n",
      "Payload 6: 1017, hex: b'000c010000010000'\n",
      "Payload 7: 980, hex: b'000c010000010000'\n",
      "Payload 8: 951, hex: b'000c010000010000'\n",
      "Payload 9: 931, hex: b'000c010000010000'\n",
      "Payload 10: 964, hex: b'000c010000010000'\n",
      "Payload 11: 1023, hex: b'000c010000010000'\n",
      "Payload 12: 978, hex: b'000c010000010000'\n",
      "Payload 13: 958, hex: b'000c010000010000'\n",
      "Payload 14: 976, hex: b'000c010000010000'\n",
      "Payload 15: 1009, hex: b'000c010000010000'\n",
      "Payload 16: 976, hex: b'000c010000010000'\n",
      "Payload 17: 1011, hex: b'000c010000010000'\n",
      "Payload 18: 1009, hex: b'000c010000010000'\n",
      "Payload 19: 1007, hex: b'000c010000010000'\n",
      "Payload 20: 982, hex: b'000c010000010000'\n",
      "Payload 21: 978, hex: b'000c010000010000'\n",
      "Payload 22: 978, hex: b'000c010000010000'\n",
      "Payload 23: 985, hex: b'000c010000010000'\n",
      "Payload 24: 991, hex: b'000c010000010000'\n",
      "Payload 25: 977, hex: b'000c010000010000'\n",
      "Payload 26: 989, hex: b'000c010000010000'\n",
      "Payload 27: 999, hex: b'000c010000010000'\n",
      "Payload 28: 941, hex: b'000c010000010000'\n",
      "Payload 29: 560, hex: b'000c010000010000'\n"
     ]
    }
   ],
   "source": [
    "# Convertir los payloads a formato hexadecimal y obtener los primeros bytes de cada uno\n",
    "for i, payload in enumerate(payloads_array):\n",
    "    payload_bytes = df_conversation.iloc[i]['payload_raw']\n",
    "    hex_payload = binascii.hexlify(payload_bytes)[:16]\n",
    "    print(f\"Payload {i+1}: {payload}, hex: {hex_payload}\")\n"
   ]
  },
  {
   "cell_type": "markdown",
   "metadata": {},
   "source": [
    "g. Observar contenido y describir lo que se encontro\n",
    "\n",
    "\n",
    "Observando los primeros bytes del contenido de los payloads proporcionados, noto que uno de los payloads tiene una longitud inusualmente corta en comparación con los demás. El payload tiene una longitud de 560 bytes, mientras que la mayoría de los otros payloads tienen longitudes más cercanas a los 1000 bytes.\n",
    "\n",
    "Dado que el puerto destino en cuestión es el puerto 53, que normalmente se utiliza para la resolución de nombres de dominio (DNS), es poco común que un payload tan corto se envíe a este puerto. Los payloads típicos enviados a través del puerto 53 suelen contener consultas DNS o respuestas DNS, que pueden ser más largas debido a la información adicional incluida en las respuestas DNS, como registros de recursos y datos de configuración.\n",
    "\n",
    "Por lo tanto, es posible que el payload con una longitud de 560 bytes sea inusual o no esté relacionado con las actividades típicas de un servicio DNS. "
   ]
  }
 ],
 "metadata": {
  "kernelspec": {
   "display_name": "Python 3",
   "language": "python",
   "name": "python3"
  },
  "language_info": {
   "codemirror_mode": {
    "name": "ipython",
    "version": 3
   },
   "file_extension": ".py",
   "mimetype": "text/x-python",
   "name": "python",
   "nbconvert_exporter": "python",
   "pygments_lexer": "ipython3",
   "version": "3.11.5"
  }
 },
 "nbformat": 4,
 "nbformat_minor": 2
}
